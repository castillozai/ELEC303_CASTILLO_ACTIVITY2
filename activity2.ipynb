{
 "cells": [
  {
   "cell_type": "markdown",
   "id": "5592e827-a82b-4fa1-9b13-ff8b9e403050",
   "metadata": {},
   "source": [
    "<h1>Project: UK Road Accidents</h1>"
   ]
  },
  {
   "cell_type": "markdown",
   "id": "5110bb14-53a5-4a20-ac40-968ca4311901",
   "metadata": {},
   "source": [
    "<h2>Analyst:</h2>\n",
    "\n",
    "<h2>Zairesh Castillo</h2>"
   ]
  },
  {
   "cell_type": "code",
   "execution_count": 1,
   "id": "d025d55a-6614-496c-87c9-310e864d3e09",
   "metadata": {},
   "outputs": [],
   "source": [
    "import numpy as np\n",
    "import pandas as pd\n",
    "import warnings\n",
    "warnings.filterwarnings('ignore')"
   ]
  },
  {
   "cell_type": "code",
   "execution_count": 2,
   "id": "f4eec076-e175-472e-9fe9-84f847a70274",
   "metadata": {},
   "outputs": [],
   "source": [
    "accident = pd.read_csv('accident_data.csv')"
   ]
  },
  {
   "cell_type": "code",
   "execution_count": 3,
   "id": "c9f95541-c82c-4e75-97f2-fbecfd6f4bf1",
   "metadata": {},
   "outputs": [
    {
     "data": {
      "text/html": [
       "<div>\n",
       "<style scoped>\n",
       "    .dataframe tbody tr th:only-of-type {\n",
       "        vertical-align: middle;\n",
       "    }\n",
       "\n",
       "    .dataframe tbody tr th {\n",
       "        vertical-align: top;\n",
       "    }\n",
       "\n",
       "    .dataframe thead th {\n",
       "        text-align: right;\n",
       "    }\n",
       "</style>\n",
       "<table border=\"1\" class=\"dataframe\">\n",
       "  <thead>\n",
       "    <tr style=\"text-align: right;\">\n",
       "      <th></th>\n",
       "      <th>Index</th>\n",
       "      <th>Accident_Severity</th>\n",
       "      <th>Accident Date</th>\n",
       "      <th>Latitude</th>\n",
       "      <th>Light_Conditions</th>\n",
       "      <th>District Area</th>\n",
       "      <th>Longitude</th>\n",
       "      <th>Number_of_Casualties</th>\n",
       "      <th>Number_of_Vehicles</th>\n",
       "      <th>Road_Surface_Conditions</th>\n",
       "      <th>Road_Type</th>\n",
       "      <th>Urban_or_Rural_Area</th>\n",
       "      <th>Weather_Conditions</th>\n",
       "      <th>Vehicle_Type</th>\n",
       "    </tr>\n",
       "  </thead>\n",
       "  <tbody>\n",
       "    <tr>\n",
       "      <th>0</th>\n",
       "      <td>200701BS64157</td>\n",
       "      <td>Serious</td>\n",
       "      <td>05/06/2019</td>\n",
       "      <td>51.506187</td>\n",
       "      <td>Darkness - lights lit</td>\n",
       "      <td>Kensington and Chelsea</td>\n",
       "      <td>-0.209082</td>\n",
       "      <td>1</td>\n",
       "      <td>2</td>\n",
       "      <td>Dry</td>\n",
       "      <td>Single carriageway</td>\n",
       "      <td>Urban</td>\n",
       "      <td>Fine no high winds</td>\n",
       "      <td>Car</td>\n",
       "    </tr>\n",
       "    <tr>\n",
       "      <th>1</th>\n",
       "      <td>200701BS65737</td>\n",
       "      <td>Serious</td>\n",
       "      <td>02/07/2019</td>\n",
       "      <td>51.495029</td>\n",
       "      <td>Daylight</td>\n",
       "      <td>Kensington and Chelsea</td>\n",
       "      <td>-0.173647</td>\n",
       "      <td>1</td>\n",
       "      <td>2</td>\n",
       "      <td>Wet or damp</td>\n",
       "      <td>Single carriageway</td>\n",
       "      <td>Urban</td>\n",
       "      <td>Raining no high winds</td>\n",
       "      <td>Car</td>\n",
       "    </tr>\n",
       "    <tr>\n",
       "      <th>2</th>\n",
       "      <td>200701BS66127</td>\n",
       "      <td>Serious</td>\n",
       "      <td>26/08/2019</td>\n",
       "      <td>51.517715</td>\n",
       "      <td>Darkness - lighting unknown</td>\n",
       "      <td>Kensington and Chelsea</td>\n",
       "      <td>-0.210215</td>\n",
       "      <td>1</td>\n",
       "      <td>3</td>\n",
       "      <td>Dry</td>\n",
       "      <td>NaN</td>\n",
       "      <td>Urban</td>\n",
       "      <td>NaN</td>\n",
       "      <td>Taxi/Private hire car</td>\n",
       "    </tr>\n",
       "    <tr>\n",
       "      <th>3</th>\n",
       "      <td>200701BS66128</td>\n",
       "      <td>Serious</td>\n",
       "      <td>16/08/2019</td>\n",
       "      <td>51.495478</td>\n",
       "      <td>Daylight</td>\n",
       "      <td>Kensington and Chelsea</td>\n",
       "      <td>-0.202731</td>\n",
       "      <td>1</td>\n",
       "      <td>4</td>\n",
       "      <td>Dry</td>\n",
       "      <td>Single carriageway</td>\n",
       "      <td>Urban</td>\n",
       "      <td>Fine no high winds</td>\n",
       "      <td>Bus or coach (17 or more pass seats)</td>\n",
       "    </tr>\n",
       "    <tr>\n",
       "      <th>4</th>\n",
       "      <td>200701BS66837</td>\n",
       "      <td>Slight</td>\n",
       "      <td>03/09/2019</td>\n",
       "      <td>51.488576</td>\n",
       "      <td>Darkness - lights lit</td>\n",
       "      <td>Kensington and Chelsea</td>\n",
       "      <td>-0.192487</td>\n",
       "      <td>1</td>\n",
       "      <td>2</td>\n",
       "      <td>Dry</td>\n",
       "      <td>NaN</td>\n",
       "      <td>Urban</td>\n",
       "      <td>NaN</td>\n",
       "      <td>Other vehicle</td>\n",
       "    </tr>\n",
       "    <tr>\n",
       "      <th>...</th>\n",
       "      <td>...</td>\n",
       "      <td>...</td>\n",
       "      <td>...</td>\n",
       "      <td>...</td>\n",
       "      <td>...</td>\n",
       "      <td>...</td>\n",
       "      <td>...</td>\n",
       "      <td>...</td>\n",
       "      <td>...</td>\n",
       "      <td>...</td>\n",
       "      <td>...</td>\n",
       "      <td>...</td>\n",
       "      <td>...</td>\n",
       "      <td>...</td>\n",
       "    </tr>\n",
       "    <tr>\n",
       "      <th>660674</th>\n",
       "      <td>201091NM01760</td>\n",
       "      <td>Slight</td>\n",
       "      <td>18/02/2022</td>\n",
       "      <td>57.374005</td>\n",
       "      <td>Daylight</td>\n",
       "      <td>Highland</td>\n",
       "      <td>-3.467828</td>\n",
       "      <td>2</td>\n",
       "      <td>1</td>\n",
       "      <td>Dry</td>\n",
       "      <td>Single carriageway</td>\n",
       "      <td>Rural</td>\n",
       "      <td>Fine no high winds</td>\n",
       "      <td>Car</td>\n",
       "    </tr>\n",
       "    <tr>\n",
       "      <th>660675</th>\n",
       "      <td>201091NM01881</td>\n",
       "      <td>Slight</td>\n",
       "      <td>21/02/2022</td>\n",
       "      <td>57.232273</td>\n",
       "      <td>Darkness - no lighting</td>\n",
       "      <td>Highland</td>\n",
       "      <td>-3.809281</td>\n",
       "      <td>1</td>\n",
       "      <td>1</td>\n",
       "      <td>Frost or ice</td>\n",
       "      <td>Single carriageway</td>\n",
       "      <td>Rural</td>\n",
       "      <td>Fine no high winds</td>\n",
       "      <td>Car</td>\n",
       "    </tr>\n",
       "    <tr>\n",
       "      <th>660676</th>\n",
       "      <td>201091NM01935</td>\n",
       "      <td>Slight</td>\n",
       "      <td>23/02/2022</td>\n",
       "      <td>57.585044</td>\n",
       "      <td>Daylight</td>\n",
       "      <td>Highland</td>\n",
       "      <td>-3.862727</td>\n",
       "      <td>1</td>\n",
       "      <td>3</td>\n",
       "      <td>Frost or ice</td>\n",
       "      <td>Single carriageway</td>\n",
       "      <td>Rural</td>\n",
       "      <td>Fine no high winds</td>\n",
       "      <td>Car</td>\n",
       "    </tr>\n",
       "    <tr>\n",
       "      <th>660677</th>\n",
       "      <td>201091NM01964</td>\n",
       "      <td>Serious</td>\n",
       "      <td>23/02/2022</td>\n",
       "      <td>57.214898</td>\n",
       "      <td>Darkness - no lighting</td>\n",
       "      <td>Highland</td>\n",
       "      <td>-3.823997</td>\n",
       "      <td>1</td>\n",
       "      <td>2</td>\n",
       "      <td>Wet or damp</td>\n",
       "      <td>Single carriageway</td>\n",
       "      <td>Rural</td>\n",
       "      <td>Fine no high winds</td>\n",
       "      <td>Motorcycle over 500cc</td>\n",
       "    </tr>\n",
       "    <tr>\n",
       "      <th>660678</th>\n",
       "      <td>201091NM02142</td>\n",
       "      <td>Serious</td>\n",
       "      <td>28/02/2022</td>\n",
       "      <td>57.575210</td>\n",
       "      <td>Daylight</td>\n",
       "      <td>Highland</td>\n",
       "      <td>-3.895673</td>\n",
       "      <td>1</td>\n",
       "      <td>1</td>\n",
       "      <td>Wet or damp</td>\n",
       "      <td>Dual carriageway</td>\n",
       "      <td>Rural</td>\n",
       "      <td>Snowing no high winds</td>\n",
       "      <td>Car</td>\n",
       "    </tr>\n",
       "  </tbody>\n",
       "</table>\n",
       "<p>660679 rows × 14 columns</p>\n",
       "</div>"
      ],
      "text/plain": [
       "                Index Accident_Severity Accident Date   Latitude  \\\n",
       "0       200701BS64157           Serious    05/06/2019  51.506187   \n",
       "1       200701BS65737           Serious    02/07/2019  51.495029   \n",
       "2       200701BS66127           Serious    26/08/2019  51.517715   \n",
       "3       200701BS66128           Serious    16/08/2019  51.495478   \n",
       "4       200701BS66837            Slight    03/09/2019  51.488576   \n",
       "...               ...               ...           ...        ...   \n",
       "660674  201091NM01760            Slight    18/02/2022  57.374005   \n",
       "660675  201091NM01881            Slight    21/02/2022  57.232273   \n",
       "660676  201091NM01935            Slight    23/02/2022  57.585044   \n",
       "660677  201091NM01964           Serious    23/02/2022  57.214898   \n",
       "660678  201091NM02142           Serious    28/02/2022  57.575210   \n",
       "\n",
       "                   Light_Conditions           District Area  Longitude  \\\n",
       "0             Darkness - lights lit  Kensington and Chelsea  -0.209082   \n",
       "1                          Daylight  Kensington and Chelsea  -0.173647   \n",
       "2       Darkness - lighting unknown  Kensington and Chelsea  -0.210215   \n",
       "3                          Daylight  Kensington and Chelsea  -0.202731   \n",
       "4             Darkness - lights lit  Kensington and Chelsea  -0.192487   \n",
       "...                             ...                     ...        ...   \n",
       "660674                     Daylight                Highland  -3.467828   \n",
       "660675       Darkness - no lighting                Highland  -3.809281   \n",
       "660676                     Daylight                Highland  -3.862727   \n",
       "660677       Darkness - no lighting                Highland  -3.823997   \n",
       "660678                     Daylight                Highland  -3.895673   \n",
       "\n",
       "        Number_of_Casualties  Number_of_Vehicles Road_Surface_Conditions  \\\n",
       "0                          1                   2                     Dry   \n",
       "1                          1                   2             Wet or damp   \n",
       "2                          1                   3                     Dry   \n",
       "3                          1                   4                     Dry   \n",
       "4                          1                   2                     Dry   \n",
       "...                      ...                 ...                     ...   \n",
       "660674                     2                   1                     Dry   \n",
       "660675                     1                   1            Frost or ice   \n",
       "660676                     1                   3            Frost or ice   \n",
       "660677                     1                   2             Wet or damp   \n",
       "660678                     1                   1             Wet or damp   \n",
       "\n",
       "                 Road_Type Urban_or_Rural_Area     Weather_Conditions  \\\n",
       "0       Single carriageway               Urban     Fine no high winds   \n",
       "1       Single carriageway               Urban  Raining no high winds   \n",
       "2                      NaN               Urban                    NaN   \n",
       "3       Single carriageway               Urban     Fine no high winds   \n",
       "4                      NaN               Urban                    NaN   \n",
       "...                    ...                 ...                    ...   \n",
       "660674  Single carriageway               Rural     Fine no high winds   \n",
       "660675  Single carriageway               Rural     Fine no high winds   \n",
       "660676  Single carriageway               Rural     Fine no high winds   \n",
       "660677  Single carriageway               Rural     Fine no high winds   \n",
       "660678    Dual carriageway               Rural  Snowing no high winds   \n",
       "\n",
       "                                Vehicle_Type  \n",
       "0                                        Car  \n",
       "1                                        Car  \n",
       "2                      Taxi/Private hire car  \n",
       "3       Bus or coach (17 or more pass seats)  \n",
       "4                              Other vehicle  \n",
       "...                                      ...  \n",
       "660674                                   Car  \n",
       "660675                                   Car  \n",
       "660676                                   Car  \n",
       "660677                 Motorcycle over 500cc  \n",
       "660678                                   Car  \n",
       "\n",
       "[660679 rows x 14 columns]"
      ]
     },
     "execution_count": 3,
     "metadata": {},
     "output_type": "execute_result"
    }
   ],
   "source": [
    "accident"
   ]
  },
  {
   "cell_type": "code",
   "execution_count": 4,
   "id": "19fdae86-e08e-442a-acb8-e392a005182c",
   "metadata": {},
   "outputs": [
    {
     "data": {
      "text/html": [
       "<div>\n",
       "<style scoped>\n",
       "    .dataframe tbody tr th:only-of-type {\n",
       "        vertical-align: middle;\n",
       "    }\n",
       "\n",
       "    .dataframe tbody tr th {\n",
       "        vertical-align: top;\n",
       "    }\n",
       "\n",
       "    .dataframe thead th {\n",
       "        text-align: right;\n",
       "    }\n",
       "</style>\n",
       "<table border=\"1\" class=\"dataframe\">\n",
       "  <thead>\n",
       "    <tr style=\"text-align: right;\">\n",
       "      <th></th>\n",
       "      <th>Latitude</th>\n",
       "      <th>Longitude</th>\n",
       "      <th>Number_of_Casualties</th>\n",
       "      <th>Number_of_Vehicles</th>\n",
       "    </tr>\n",
       "  </thead>\n",
       "  <tbody>\n",
       "    <tr>\n",
       "      <th>count</th>\n",
       "      <td>660654.000000</td>\n",
       "      <td>660653.000000</td>\n",
       "      <td>660679.000000</td>\n",
       "      <td>660679.000000</td>\n",
       "    </tr>\n",
       "    <tr>\n",
       "      <th>mean</th>\n",
       "      <td>52.553866</td>\n",
       "      <td>-1.431210</td>\n",
       "      <td>1.357040</td>\n",
       "      <td>1.831255</td>\n",
       "    </tr>\n",
       "    <tr>\n",
       "      <th>std</th>\n",
       "      <td>1.406922</td>\n",
       "      <td>1.383330</td>\n",
       "      <td>0.824847</td>\n",
       "      <td>0.715269</td>\n",
       "    </tr>\n",
       "    <tr>\n",
       "      <th>min</th>\n",
       "      <td>49.914430</td>\n",
       "      <td>-7.516225</td>\n",
       "      <td>1.000000</td>\n",
       "      <td>1.000000</td>\n",
       "    </tr>\n",
       "    <tr>\n",
       "      <th>25%</th>\n",
       "      <td>51.490690</td>\n",
       "      <td>-2.332291</td>\n",
       "      <td>1.000000</td>\n",
       "      <td>1.000000</td>\n",
       "    </tr>\n",
       "    <tr>\n",
       "      <th>50%</th>\n",
       "      <td>52.315641</td>\n",
       "      <td>-1.411667</td>\n",
       "      <td>1.000000</td>\n",
       "      <td>2.000000</td>\n",
       "    </tr>\n",
       "    <tr>\n",
       "      <th>75%</th>\n",
       "      <td>53.453452</td>\n",
       "      <td>-0.232869</td>\n",
       "      <td>1.000000</td>\n",
       "      <td>2.000000</td>\n",
       "    </tr>\n",
       "    <tr>\n",
       "      <th>max</th>\n",
       "      <td>60.757544</td>\n",
       "      <td>1.762010</td>\n",
       "      <td>68.000000</td>\n",
       "      <td>32.000000</td>\n",
       "    </tr>\n",
       "  </tbody>\n",
       "</table>\n",
       "</div>"
      ],
      "text/plain": [
       "            Latitude      Longitude  Number_of_Casualties  Number_of_Vehicles\n",
       "count  660654.000000  660653.000000         660679.000000       660679.000000\n",
       "mean       52.553866      -1.431210              1.357040            1.831255\n",
       "std         1.406922       1.383330              0.824847            0.715269\n",
       "min        49.914430      -7.516225              1.000000            1.000000\n",
       "25%        51.490690      -2.332291              1.000000            1.000000\n",
       "50%        52.315641      -1.411667              1.000000            2.000000\n",
       "75%        53.453452      -0.232869              1.000000            2.000000\n",
       "max        60.757544       1.762010             68.000000           32.000000"
      ]
     },
     "execution_count": 4,
     "metadata": {},
     "output_type": "execute_result"
    }
   ],
   "source": [
    "accident.describe()"
   ]
  },
  {
   "cell_type": "code",
   "execution_count": 5,
   "id": "2aac6745-d21e-42ae-9203-41a31834234e",
   "metadata": {},
   "outputs": [
    {
     "name": "stdout",
     "output_type": "stream",
     "text": [
      "<class 'pandas.core.frame.DataFrame'>\n",
      "RangeIndex: 660679 entries, 0 to 660678\n",
      "Data columns (total 14 columns):\n",
      " #   Column                   Non-Null Count   Dtype  \n",
      "---  ------                   --------------   -----  \n",
      " 0   Index                    660679 non-null  object \n",
      " 1   Accident_Severity        660679 non-null  object \n",
      " 2   Accident Date            660679 non-null  object \n",
      " 3   Latitude                 660654 non-null  float64\n",
      " 4   Light_Conditions         660679 non-null  object \n",
      " 5   District Area            660679 non-null  object \n",
      " 6   Longitude                660653 non-null  float64\n",
      " 7   Number_of_Casualties     660679 non-null  int64  \n",
      " 8   Number_of_Vehicles       660679 non-null  int64  \n",
      " 9   Road_Surface_Conditions  659953 non-null  object \n",
      " 10  Road_Type                656159 non-null  object \n",
      " 11  Urban_or_Rural_Area      660664 non-null  object \n",
      " 12  Weather_Conditions       646551 non-null  object \n",
      " 13  Vehicle_Type             660679 non-null  object \n",
      "dtypes: float64(2), int64(2), object(10)\n",
      "memory usage: 70.6+ MB\n"
     ]
    }
   ],
   "source": [
    "accident.info()"
   ]
  },
  {
   "cell_type": "code",
   "execution_count": 6,
   "id": "6d58c26b-ef01-4f2e-90c6-86dae32a7e6f",
   "metadata": {},
   "outputs": [
    {
     "data": {
      "text/plain": [
       "0         200701BS64157\n",
       "1         200701BS65737\n",
       "2         200701BS66127\n",
       "3         200701BS66128\n",
       "4         200701BS66837\n",
       "              ...      \n",
       "660674    201091NM01760\n",
       "660675    201091NM01881\n",
       "660676    201091NM01935\n",
       "660677    201091NM01964\n",
       "660678    201091NM02142\n",
       "Name: Index, Length: 660679, dtype: object"
      ]
     },
     "execution_count": 6,
     "metadata": {},
     "output_type": "execute_result"
    }
   ],
   "source": [
    "accident[\"Index\"]"
   ]
  },
  {
   "cell_type": "code",
   "execution_count": 7,
   "id": "ffe1ca53-c977-45ea-99f0-ff0494ec8f99",
   "metadata": {},
   "outputs": [
    {
     "data": {
      "text/plain": [
       "0         Serious\n",
       "1         Serious\n",
       "2         Serious\n",
       "3         Serious\n",
       "4          Slight\n",
       "           ...   \n",
       "660674     Slight\n",
       "660675     Slight\n",
       "660676     Slight\n",
       "660677    Serious\n",
       "660678    Serious\n",
       "Name: Accident_Severity, Length: 660679, dtype: object"
      ]
     },
     "execution_count": 7,
     "metadata": {},
     "output_type": "execute_result"
    }
   ],
   "source": [
    "accident[\"Accident_Severity\"]"
   ]
  },
  {
   "cell_type": "code",
   "execution_count": 8,
   "id": "56890733-1053-45bb-b961-dc55ff9df646",
   "metadata": {},
   "outputs": [
    {
     "data": {
      "text/plain": [
       "0         05/06/2019\n",
       "1         02/07/2019\n",
       "2         26/08/2019\n",
       "3         16/08/2019\n",
       "4         03/09/2019\n",
       "             ...    \n",
       "660674    18/02/2022\n",
       "660675    21/02/2022\n",
       "660676    23/02/2022\n",
       "660677    23/02/2022\n",
       "660678    28/02/2022\n",
       "Name: Accident Date, Length: 660679, dtype: object"
      ]
     },
     "execution_count": 8,
     "metadata": {},
     "output_type": "execute_result"
    }
   ],
   "source": [
    "accident[\"Accident Date\"]"
   ]
  },
  {
   "cell_type": "code",
   "execution_count": 9,
   "id": "fabbd3bd-7bb7-48f5-9ba7-f25198b9739e",
   "metadata": {},
   "outputs": [
    {
     "data": {
      "text/plain": [
       "0         51.506187\n",
       "1         51.495029\n",
       "2         51.517715\n",
       "3         51.495478\n",
       "4         51.488576\n",
       "            ...    \n",
       "660674    57.374005\n",
       "660675    57.232273\n",
       "660676    57.585044\n",
       "660677    57.214898\n",
       "660678    57.575210\n",
       "Name: Latitude, Length: 660679, dtype: float64"
      ]
     },
     "execution_count": 9,
     "metadata": {},
     "output_type": "execute_result"
    }
   ],
   "source": [
    "accident[\"Latitude\"]"
   ]
  },
  {
   "cell_type": "code",
   "execution_count": 10,
   "id": "2189d143-31de-421e-a273-f3b2481015db",
   "metadata": {},
   "outputs": [
    {
     "data": {
      "text/plain": [
       "0               Darkness - lights lit\n",
       "1                            Daylight\n",
       "2         Darkness - lighting unknown\n",
       "3                            Daylight\n",
       "4               Darkness - lights lit\n",
       "                     ...             \n",
       "660674                       Daylight\n",
       "660675         Darkness - no lighting\n",
       "660676                       Daylight\n",
       "660677         Darkness - no lighting\n",
       "660678                       Daylight\n",
       "Name: Light_Conditions, Length: 660679, dtype: object"
      ]
     },
     "execution_count": 10,
     "metadata": {},
     "output_type": "execute_result"
    }
   ],
   "source": [
    "accident[\"Light_Conditions\"]"
   ]
  },
  {
   "cell_type": "code",
   "execution_count": 11,
   "id": "e66b20f9-8dda-43d1-ad55-6b118cb8594d",
   "metadata": {},
   "outputs": [
    {
     "data": {
      "text/plain": [
       "0         Kensington and Chelsea\n",
       "1         Kensington and Chelsea\n",
       "2         Kensington and Chelsea\n",
       "3         Kensington and Chelsea\n",
       "4         Kensington and Chelsea\n",
       "                   ...          \n",
       "660674                  Highland\n",
       "660675                  Highland\n",
       "660676                  Highland\n",
       "660677                  Highland\n",
       "660678                  Highland\n",
       "Name: District Area, Length: 660679, dtype: object"
      ]
     },
     "execution_count": 11,
     "metadata": {},
     "output_type": "execute_result"
    }
   ],
   "source": [
    "accident[\"District Area\"]"
   ]
  },
  {
   "cell_type": "code",
   "execution_count": 12,
   "id": "00bbb0e4-ff18-49ce-b1c5-13b0fd6989f2",
   "metadata": {},
   "outputs": [
    {
     "data": {
      "text/plain": [
       "0        -0.209082\n",
       "1        -0.173647\n",
       "2        -0.210215\n",
       "3        -0.202731\n",
       "4        -0.192487\n",
       "            ...   \n",
       "660674   -3.467828\n",
       "660675   -3.809281\n",
       "660676   -3.862727\n",
       "660677   -3.823997\n",
       "660678   -3.895673\n",
       "Name: Longitude, Length: 660679, dtype: float64"
      ]
     },
     "execution_count": 12,
     "metadata": {},
     "output_type": "execute_result"
    }
   ],
   "source": [
    "accident[\"Longitude\"]"
   ]
  },
  {
   "cell_type": "code",
   "execution_count": 13,
   "id": "100c3671-5373-4b80-bb24-237ac7572b85",
   "metadata": {},
   "outputs": [
    {
     "data": {
      "text/plain": [
       "0         1\n",
       "1         1\n",
       "2         1\n",
       "3         1\n",
       "4         1\n",
       "         ..\n",
       "660674    2\n",
       "660675    1\n",
       "660676    1\n",
       "660677    1\n",
       "660678    1\n",
       "Name: Number_of_Casualties, Length: 660679, dtype: int64"
      ]
     },
     "execution_count": 13,
     "metadata": {},
     "output_type": "execute_result"
    }
   ],
   "source": [
    "accident[\"Number_of_Casualties\"]"
   ]
  },
  {
   "cell_type": "code",
   "execution_count": 14,
   "id": "85c8e8e5-5631-4c6e-9053-5b604880f8a0",
   "metadata": {},
   "outputs": [
    {
     "data": {
      "text/plain": [
       "0         2\n",
       "1         2\n",
       "2         3\n",
       "3         4\n",
       "4         2\n",
       "         ..\n",
       "660674    1\n",
       "660675    1\n",
       "660676    3\n",
       "660677    2\n",
       "660678    1\n",
       "Name: Number_of_Vehicles, Length: 660679, dtype: int64"
      ]
     },
     "execution_count": 14,
     "metadata": {},
     "output_type": "execute_result"
    }
   ],
   "source": [
    "accident[\"Number_of_Vehicles\"]"
   ]
  },
  {
   "cell_type": "code",
   "execution_count": 15,
   "id": "54270de6-041c-4def-b0f8-a05a659a7b2a",
   "metadata": {},
   "outputs": [
    {
     "data": {
      "text/plain": [
       "0                  Dry\n",
       "1          Wet or damp\n",
       "2                  Dry\n",
       "3                  Dry\n",
       "4                  Dry\n",
       "              ...     \n",
       "660674             Dry\n",
       "660675    Frost or ice\n",
       "660676    Frost or ice\n",
       "660677     Wet or damp\n",
       "660678     Wet or damp\n",
       "Name: Road_Surface_Conditions, Length: 660679, dtype: object"
      ]
     },
     "execution_count": 15,
     "metadata": {},
     "output_type": "execute_result"
    }
   ],
   "source": [
    "accident[\"Road_Surface_Conditions\"]"
   ]
  },
  {
   "cell_type": "code",
   "execution_count": 16,
   "id": "f223edae-56d3-487e-92ba-7e5d4f01de5c",
   "metadata": {},
   "outputs": [
    {
     "data": {
      "text/plain": [
       "0         Single carriageway\n",
       "1         Single carriageway\n",
       "2                        NaN\n",
       "3         Single carriageway\n",
       "4                        NaN\n",
       "                 ...        \n",
       "660674    Single carriageway\n",
       "660675    Single carriageway\n",
       "660676    Single carriageway\n",
       "660677    Single carriageway\n",
       "660678      Dual carriageway\n",
       "Name: Road_Type, Length: 660679, dtype: object"
      ]
     },
     "execution_count": 16,
     "metadata": {},
     "output_type": "execute_result"
    }
   ],
   "source": [
    "accident[\"Road_Type\"]"
   ]
  },
  {
   "cell_type": "code",
   "execution_count": 17,
   "id": "fa86fe34-cc6b-4d90-a19c-ad2434ec3a5d",
   "metadata": {},
   "outputs": [
    {
     "data": {
      "text/plain": [
       "0         Urban\n",
       "1         Urban\n",
       "2         Urban\n",
       "3         Urban\n",
       "4         Urban\n",
       "          ...  \n",
       "660674    Rural\n",
       "660675    Rural\n",
       "660676    Rural\n",
       "660677    Rural\n",
       "660678    Rural\n",
       "Name: Urban_or_Rural_Area, Length: 660679, dtype: object"
      ]
     },
     "execution_count": 17,
     "metadata": {},
     "output_type": "execute_result"
    }
   ],
   "source": [
    "accident[\"Urban_or_Rural_Area\"]"
   ]
  },
  {
   "cell_type": "code",
   "execution_count": 18,
   "id": "2a5af310-c89c-4160-9d40-394d44a5331d",
   "metadata": {},
   "outputs": [
    {
     "data": {
      "text/plain": [
       "0            Fine no high winds\n",
       "1         Raining no high winds\n",
       "2                           NaN\n",
       "3            Fine no high winds\n",
       "4                           NaN\n",
       "                  ...          \n",
       "660674       Fine no high winds\n",
       "660675       Fine no high winds\n",
       "660676       Fine no high winds\n",
       "660677       Fine no high winds\n",
       "660678    Snowing no high winds\n",
       "Name: Weather_Conditions, Length: 660679, dtype: object"
      ]
     },
     "execution_count": 18,
     "metadata": {},
     "output_type": "execute_result"
    }
   ],
   "source": [
    "accident[\"Weather_Conditions\"]"
   ]
  },
  {
   "cell_type": "code",
   "execution_count": 19,
   "id": "45a7f47e-3f53-4520-99d1-0c27f3dbac34",
   "metadata": {},
   "outputs": [
    {
     "data": {
      "text/plain": [
       "0                                          Car\n",
       "1                                          Car\n",
       "2                        Taxi/Private hire car\n",
       "3         Bus or coach (17 or more pass seats)\n",
       "4                                Other vehicle\n",
       "                          ...                 \n",
       "660674                                     Car\n",
       "660675                                     Car\n",
       "660676                                     Car\n",
       "660677                   Motorcycle over 500cc\n",
       "660678                                     Car\n",
       "Name: Vehicle_Type, Length: 660679, dtype: object"
      ]
     },
     "execution_count": 19,
     "metadata": {},
     "output_type": "execute_result"
    }
   ],
   "source": [
    "accident[\"Vehicle_Type\"]"
   ]
  },
  {
   "cell_type": "code",
   "execution_count": 20,
   "id": "3be3e259-8c91-4ca8-862f-d1db90be3cd6",
   "metadata": {},
   "outputs": [
    {
     "data": {
      "text/plain": [
       "Index                          0\n",
       "Accident_Severity              0\n",
       "Accident Date                  0\n",
       "Latitude                      25\n",
       "Light_Conditions               0\n",
       "District Area                  0\n",
       "Longitude                     26\n",
       "Number_of_Casualties           0\n",
       "Number_of_Vehicles             0\n",
       "Road_Surface_Conditions      726\n",
       "Road_Type                   4520\n",
       "Urban_or_Rural_Area           15\n",
       "Weather_Conditions         14128\n",
       "Vehicle_Type                   0\n",
       "dtype: int64"
      ]
     },
     "execution_count": 20,
     "metadata": {},
     "output_type": "execute_result"
    }
   ],
   "source": [
    "accident.isnull().sum()"
   ]
  },
  {
   "cell_type": "code",
   "execution_count": 21,
   "id": "1de1dd01-d4b2-4481-8bb0-7d4bef730b40",
   "metadata": {},
   "outputs": [],
   "source": [
    "accident['Latitude'] = accident['Latitude'].fillna(accident['Latitude'].mode()[0])\n",
    "accident['Longitude'] = accident['Longitude'].fillna(accident['Longitude'].mode()[0])\n",
    "accident['Road_Surface_Conditions'] = accident['Road_Surface_Conditions'].fillna(accident['Road_Surface_Conditions'].mode()[0])\n",
    "accident['Road_Type'] = accident['Road_Type'].fillna(accident['Road_Type'].mode()[0])\n",
    "accident['Urban_or_Rural_Area'] = accident['Urban_or_Rural_Area'].fillna(accident['Urban_or_Rural_Area'].mode()[0])\n",
    "accident['Weather_Conditions'] = accident['Weather_Conditions'].fillna(accident['Weather_Conditions'].mode()[0])"
   ]
  },
  {
   "cell_type": "code",
   "execution_count": 22,
   "id": "0fa95785-586c-48f5-ac44-857f31591ae9",
   "metadata": {},
   "outputs": [
    {
     "data": {
      "text/plain": [
       "Index                      0\n",
       "Accident_Severity          0\n",
       "Accident Date              0\n",
       "Latitude                   0\n",
       "Light_Conditions           0\n",
       "District Area              0\n",
       "Longitude                  0\n",
       "Number_of_Casualties       0\n",
       "Number_of_Vehicles         0\n",
       "Road_Surface_Conditions    0\n",
       "Road_Type                  0\n",
       "Urban_or_Rural_Area        0\n",
       "Weather_Conditions         0\n",
       "Vehicle_Type               0\n",
       "dtype: int64"
      ]
     },
     "execution_count": 22,
     "metadata": {},
     "output_type": "execute_result"
    }
   ],
   "source": [
    "accident.isnull().sum()"
   ]
  },
  {
   "cell_type": "code",
   "execution_count": 23,
   "id": "1904b515-336a-44a5-b016-23e0af845b29",
   "metadata": {},
   "outputs": [
    {
     "data": {
      "text/plain": [
       "Index                       object\n",
       "Accident_Severity           object\n",
       "Accident Date               object\n",
       "Latitude                   float64\n",
       "Light_Conditions            object\n",
       "District Area               object\n",
       "Longitude                  float64\n",
       "Number_of_Casualties         int64\n",
       "Number_of_Vehicles           int64\n",
       "Road_Surface_Conditions     object\n",
       "Road_Type                   object\n",
       "Urban_or_Rural_Area         object\n",
       "Weather_Conditions          object\n",
       "Vehicle_Type                object\n",
       "dtype: object"
      ]
     },
     "execution_count": 23,
     "metadata": {},
     "output_type": "execute_result"
    }
   ],
   "source": [
    "accident.dtypes"
   ]
  },
  {
   "cell_type": "code",
   "execution_count": 24,
   "id": "2e365b2a-d7ae-43ea-983e-da916c2cd5f8",
   "metadata": {},
   "outputs": [],
   "source": [
    "accident['Accident Date'] = pd.to_datetime(accident['Accident Date'], dayfirst = True, errors = 'coerce')"
   ]
  },
  {
   "cell_type": "code",
   "execution_count": 25,
   "id": "6cfbe84d-6aa0-4b4c-9ff4-6bc2868a34a1",
   "metadata": {},
   "outputs": [
    {
     "data": {
      "text/plain": [
       "Index                              object\n",
       "Accident_Severity                  object\n",
       "Accident Date              datetime64[ns]\n",
       "Latitude                          float64\n",
       "Light_Conditions                   object\n",
       "District Area                      object\n",
       "Longitude                         float64\n",
       "Number_of_Casualties                int64\n",
       "Number_of_Vehicles                  int64\n",
       "Road_Surface_Conditions            object\n",
       "Road_Type                          object\n",
       "Urban_or_Rural_Area                object\n",
       "Weather_Conditions                 object\n",
       "Vehicle_Type                       object\n",
       "dtype: object"
      ]
     },
     "execution_count": 25,
     "metadata": {},
     "output_type": "execute_result"
    }
   ],
   "source": [
    "accident.dtypes"
   ]
  },
  {
   "cell_type": "code",
   "execution_count": 26,
   "id": "b55139e9-e829-423c-858e-a317fcc83dbe",
   "metadata": {},
   "outputs": [],
   "source": [
    "accident['year'] = accident['Accident Date'].dt.year\n",
    "accident['month'] = accident['Accident Date'].dt.month\n",
    "accident['day'] = accident['Accident Date'].dt.day\n",
    "accident['dayofweek'] = accident['Accident Date'].dt.dayofweek"
   ]
  },
  {
   "cell_type": "code",
   "execution_count": 27,
   "id": "834a7565-ce2c-45b9-bf84-24be6b9d1bbe",
   "metadata": {},
   "outputs": [
    {
     "data": {
      "text/plain": [
       "Index                      0\n",
       "Accident_Severity          0\n",
       "Accident Date              0\n",
       "Latitude                   0\n",
       "Light_Conditions           0\n",
       "District Area              0\n",
       "Longitude                  0\n",
       "Number_of_Casualties       0\n",
       "Number_of_Vehicles         0\n",
       "Road_Surface_Conditions    0\n",
       "Road_Type                  0\n",
       "Urban_or_Rural_Area        0\n",
       "Weather_Conditions         0\n",
       "Vehicle_Type               0\n",
       "year                       0\n",
       "month                      0\n",
       "day                        0\n",
       "dayofweek                  0\n",
       "dtype: int64"
      ]
     },
     "execution_count": 27,
     "metadata": {},
     "output_type": "execute_result"
    }
   ],
   "source": [
    "accident.isnull().sum()"
   ]
  },
  {
   "cell_type": "markdown",
   "id": "40ea59d3-4a4e-4fba-bfcf-5155f5ba6cbb",
   "metadata": {},
   "source": [
    "<h1>QUESTIONS</h1>"
   ]
  },
  {
   "cell_type": "markdown",
   "id": "703e0927-f36c-4625-947f-e61bcd229f71",
   "metadata": {},
   "source": [
    "<h2>1. how many accidents fall into each category of accident_severinity?</h2>"
   ]
  },
  {
   "cell_type": "code",
   "execution_count": 28,
   "id": "3368d172-ed29-4de1-83a4-cda205c4249e",
   "metadata": {},
   "outputs": [
    {
     "data": {
      "text/plain": [
       "Accident_Severity\n",
       "Slight     563801\n",
       "Serious     88217\n",
       "Fatal        8661\n",
       "Name: count, dtype: int64"
      ]
     },
     "execution_count": 28,
     "metadata": {},
     "output_type": "execute_result"
    }
   ],
   "source": [
    "accident['Accident_Severity'].value_counts()"
   ]
  },
  {
   "cell_type": "markdown",
   "id": "468c065a-6840-4079-8aec-a14f4f79c92d",
   "metadata": {},
   "source": [
    "<h3>insigth: there are 563801 who's Slightly enjured, 88217 who's seriopusly injured and 8661 who's fatal. </h3>"
   ]
  },
  {
   "cell_type": "markdown",
   "id": "d9147bb6-d89b-45e4-a577-64a8098242cb",
   "metadata": {},
   "source": [
    "<h1>2. what is the average number of casualties for each severity level?</h1>"
   ]
  },
  {
   "cell_type": "code",
   "execution_count": 29,
   "id": "92002bba-70a5-4846-aa71-b20a2a56061c",
   "metadata": {},
   "outputs": [
    {
     "data": {
      "text/plain": [
       "Accident_Severity\n",
       "Fatal      1.903129\n",
       "Serious    1.467280\n",
       "Slight     1.331402\n",
       "Name: Number_of_Casualties, dtype: float64"
      ]
     },
     "execution_count": 29,
     "metadata": {},
     "output_type": "execute_result"
    }
   ],
   "source": [
    "accident.groupby('Accident_Severity')['Number_of_Casualties'].mean()"
   ]
  },
  {
   "cell_type": "markdown",
   "id": "407077b0-297b-4876-afea-1bd7c18730ee",
   "metadata": {},
   "source": [
    "<h2>insigth: the number of casualties in Fatal is 1.903129, 1.467280 is serious and 1.331402 is sligth. </h2>"
   ]
  },
  {
   "cell_type": "markdown",
   "id": "d5b63d4d-e15d-4409-94bc-e3e003894057",
   "metadata": {},
   "source": [
    "<h1>3. which District Area has the highest number of fatal accidents?</h1>"
   ]
  },
  {
   "cell_type": "code",
   "execution_count": 30,
   "id": "009b45ee-4b2a-49f5-b3cf-8e81216985c7",
   "metadata": {},
   "outputs": [
    {
     "data": {
      "text/plain": [
       "District Area\n",
       "Birmingham                  105\n",
       "Leeds                        93\n",
       "Highland                     88\n",
       "East Riding of Yorkshire     85\n",
       "Bradford                     71\n",
       "                           ... \n",
       "Havant                        2\n",
       "Blyth Valley                  2\n",
       "Clackmannanshire              1\n",
       "Harlow                        1\n",
       "Stevenage                     1\n",
       "Name: count, Length: 422, dtype: int64"
      ]
     },
     "execution_count": 30,
     "metadata": {},
     "output_type": "execute_result"
    }
   ],
   "source": [
    "accident[accident['Accident_Severity'] == 'Fatal']['District Area'].value_counts()"
   ]
  },
  {
   "cell_type": "markdown",
   "id": "65e4ad47-37e0-402d-a8d6-7d6a7ac9339b",
   "metadata": {},
   "source": [
    "<h2>insigth: area that has the the highest number of fatal accidents is Birmingham with the number of 105</h2>"
   ]
  },
  {
   "cell_type": "markdown",
   "id": "510e2ca6-bbbe-4676-af1b-321dd547e2cc",
   "metadata": {},
   "source": [
    "<h1> 4.which vehicle type is the most often involve in fatal accident? </h1>"
   ]
  },
  {
   "cell_type": "code",
   "execution_count": 31,
   "id": "0f483050-5d0c-4dd9-9c3d-f821bfd299ab",
   "metadata": {},
   "outputs": [
    {
     "data": {
      "text/plain": [
       "Vehicle_Type\n",
       "Car                                      6577\n",
       "Van / Goods 3.5 tonnes mgw or under       467\n",
       "Motorcycle over 500cc                     339\n",
       "Bus or coach (17 or more pass seats)      325\n",
       "Goods 7.5 tonnes mgw and over             216\n",
       "Motorcycle 125cc and under                189\n",
       "Taxi/Private hire car                     155\n",
       "Motorcycle over 125cc and up to 500cc     105\n",
       "Motorcycle 50cc and under                  95\n",
       "Other vehicle                              70\n",
       "Goods over 3.5t. and under 7.5t            67\n",
       "Minibus (8 - 16 passenger seats)           29\n",
       "Agricultural vehicle                       21\n",
       "Pedal cycle                                 6\n",
       "Name: count, dtype: int64"
      ]
     },
     "execution_count": 31,
     "metadata": {},
     "output_type": "execute_result"
    }
   ],
   "source": [
    "accident[accident['Accident_Severity'] == 'Fatal']['Vehicle_Type'].value_counts()"
   ]
  },
  {
   "cell_type": "markdown",
   "id": "8c9acef3-5797-4d05-8382-013ec54ad699",
   "metadata": {},
   "source": [
    "<h2>insigth: car is the vehicle that is often involve in a fatal accident.</h2>"
   ]
  },
  {
   "cell_type": "markdown",
   "id": "cfa4acd3-5680-484b-b4ff-7dd7d6078bc9",
   "metadata": {},
   "source": [
    "<h1> 5. on average, how many vehicles are involve in accidents with serious severity?</h1>"
   ]
  },
  {
   "cell_type": "code",
   "execution_count": 32,
   "id": "606996ca-d080-46d2-84b6-28964c9f0568",
   "metadata": {},
   "outputs": [
    {
     "data": {
      "text/plain": [
       "1.6783273065282203"
      ]
     },
     "execution_count": 32,
     "metadata": {},
     "output_type": "execute_result"
    }
   ],
   "source": [
    "accident[accident['Accident_Severity'] == 'Serious']['Number_of_Vehicles'].mean()"
   ]
  },
  {
   "cell_type": "markdown",
   "id": "01b668af-d411-4d37-bf02-c07837f94c8a",
   "metadata": {},
   "source": [
    "<h2>insigth: the average number of vehicles that is involve in an serious severity accident are 1.6783273065282203. </h2>"
   ]
  },
  {
   "cell_type": "markdown",
   "id": "35b1b273-6df0-4c91-a024-d6d4ff7834fe",
   "metadata": {},
   "source": [
    "<h1> 6. which month records the highest number of accidents?</h1>"
   ]
  },
  {
   "cell_type": "code",
   "execution_count": 33,
   "id": "f91bc1ae-1481-4d73-837a-52b2e6e650aa",
   "metadata": {},
   "outputs": [
    {
     "data": {
      "text/plain": [
       "Month\n",
       "1     52872\n",
       "2     49491\n",
       "3     54086\n",
       "4     51744\n",
       "5     56352\n",
       "6     56481\n",
       "7     57445\n",
       "8     53913\n",
       "9     56455\n",
       "10    59580\n",
       "11    60424\n",
       "12    51836\n",
       "Name: count, dtype: int64"
      ]
     },
     "execution_count": 33,
     "metadata": {},
     "output_type": "execute_result"
    }
   ],
   "source": [
    "accident['Month'] = pd.to_datetime(accident['Accident Date'], dayfirst=True).dt.month\n",
    "accident['Month'].value_counts().sort_index()"
   ]
  },
  {
   "cell_type": "markdown",
   "id": "5dfbcc1a-138e-48b9-a394-691ca1391b67",
   "metadata": {},
   "source": [
    "<h2>insigth: the month that has the highest number of accidents on the  record is november.</h2>"
   ]
  },
  {
   "cell_type": "markdown",
   "id": "415ceca8-ca68-461e-976f-1e12e9f413dc",
   "metadata": {},
   "source": [
    "<h1> 7. which district area reports the most accidents overall?</h1>"
   ]
  },
  {
   "cell_type": "code",
   "execution_count": 34,
   "id": "d9b8996a-59b8-4ae4-a24f-cd2d96fea579",
   "metadata": {},
   "outputs": [
    {
     "data": {
      "text/plain": [
       "District Area\n",
       "Birmingham            13491\n",
       "Leeds                  8898\n",
       "Manchester             6720\n",
       "Bradford               6212\n",
       "Sheffield              5710\n",
       "                      ...  \n",
       "Berwick-upon-Tweed      153\n",
       "Teesdale                142\n",
       "Shetland Islands        133\n",
       "Orkney Islands          117\n",
       "Clackmannanshire         91\n",
       "Name: count, Length: 422, dtype: int64"
      ]
     },
     "execution_count": 34,
     "metadata": {},
     "output_type": "execute_result"
    }
   ],
   "source": [
    "accident['District Area'].value_counts()"
   ]
  },
  {
   "cell_type": "markdown",
   "id": "7c6aff42-7d8d-4463-8602-d351205c26aa",
   "metadata": {},
   "source": [
    "<h2>insigth: the area that has the most accident is Birmingham.</h2>"
   ]
  },
  {
   "cell_type": "markdown",
   "id": "8549ca2f-4565-433e-b0a0-0bb171d234bd",
   "metadata": {},
   "source": [
    "<h1> 8. which day of the week has the highest accident frequency?</h1>"
   ]
  },
  {
   "cell_type": "code",
   "execution_count": 35,
   "id": "0244ec80-bb30-4f20-bcce-031d846d23a4",
   "metadata": {},
   "outputs": [
    {
     "data": {
      "text/plain": [
       "dayofweek\n",
       "5    107178\n",
       "2     99558\n",
       "3     99511\n",
       "4     97900\n",
       "1     94550\n",
       "6     89302\n",
       "0     72680\n",
       "Name: count, dtype: int64"
      ]
     },
     "execution_count": 35,
     "metadata": {},
     "output_type": "execute_result"
    }
   ],
   "source": [
    "accident['dayofweek'].value_counts()"
   ]
  },
  {
   "cell_type": "markdown",
   "id": "c4000750-3ac3-4bac-aee9-96c26cdc175c",
   "metadata": {},
   "source": [
    "<h2>insigth: the day of week that has he highest accident is 5 with the numbers of 107178.</h2>"
   ]
  },
  {
   "cell_type": "markdown",
   "id": "0f13c484-afde-4111-94a3-39443abaaec7",
   "metadata": {},
   "source": [
    "<h1>9. which area is most likely to have fatal accident?</h1>"
   ]
  },
  {
   "cell_type": "code",
   "execution_count": 36,
   "id": "4a349805-b4a4-409c-b570-e7770beac0d3",
   "metadata": {},
   "outputs": [
    {
     "data": {
      "text/plain": [
       "Urban_or_Rural_Area  Accident_Severity\n",
       "Rural                Fatal                  5601\n",
       "                     Serious               37312\n",
       "                     Slight               196077\n",
       "Unallocated          Serious                   1\n",
       "                     Slight                   10\n",
       "Urban                Fatal                  3060\n",
       "                     Serious               50904\n",
       "                     Slight               367714\n",
       "dtype: int64"
      ]
     },
     "execution_count": 36,
     "metadata": {},
     "output_type": "execute_result"
    }
   ],
   "source": [
    "accident.groupby(['Urban_or_Rural_Area','Accident_Severity']).size()"
   ]
  },
  {
   "cell_type": "markdown",
   "id": "baea2f0d-8378-4df7-8aa5-58888eb817a3",
   "metadata": {},
   "source": [
    "<h2>insigth: Rural area is more likely to be prone in fatal accident.</h2>"
   ]
  },
  {
   "cell_type": "markdown",
   "id": "5a31fbbc-6e65-41af-8b65-3a0504d67ba0",
   "metadata": {},
   "source": [
    "<h1>10. do accidents occur more frequently on weekends or weekdays? </h1>"
   ]
  },
  {
   "cell_type": "code",
   "execution_count": 37,
   "id": "1546136f-6433-4608-a32b-5d058e920cea",
   "metadata": {},
   "outputs": [
    {
     "data": {
      "text/plain": [
       "dayofweek\n",
       "Saturday     107178\n",
       "Wednesday     99558\n",
       "Thursday      99511\n",
       "Friday        97900\n",
       "Tuesday       94550\n",
       "Sunday        89302\n",
       "Monday        72680\n",
       "Name: count, dtype: int64"
      ]
     },
     "execution_count": 37,
     "metadata": {},
     "output_type": "execute_result"
    }
   ],
   "source": [
    "accident['dayofweek'] = pd.to_datetime(accident['Accident Date'], dayfirst=True).dt.day_name()\n",
    "accident['dayofweek'].value_counts()"
   ]
  },
  {
   "cell_type": "markdown",
   "id": "61e861cf-2c34-48e3-970b-622e631c5350",
   "metadata": {},
   "source": [
    "<h2>insight: it occurs mostly on weekends</h2>"
   ]
  },
  {
   "cell_type": "markdown",
   "id": "80140ffb-bfea-4046-a068-ba09e147884e",
   "metadata": {},
   "source": [
    "<h1>11. where more accidents rural or urban?</h1>"
   ]
  },
  {
   "cell_type": "code",
   "execution_count": 38,
   "id": "ab0f9014-dfcf-47d1-9347-dea252c65bd2",
   "metadata": {},
   "outputs": [
    {
     "data": {
      "text/plain": [
       "Urban_or_Rural_Area\n",
       "Urban          421678\n",
       "Rural          238990\n",
       "Unallocated        11\n",
       "Name: count, dtype: int64"
      ]
     },
     "execution_count": 38,
     "metadata": {},
     "output_type": "execute_result"
    }
   ],
   "source": [
    "accident['Urban_or_Rural_Area'].value_counts()"
   ]
  },
  {
   "cell_type": "markdown",
   "id": "6d44c598-3355-4c76-b6e0-c10d8b906261",
   "metadata": {},
   "source": [
    "<h2>insight: it seems thst the most accident record are lkely from urban area.</h2>"
   ]
  },
  {
   "cell_type": "markdown",
   "id": "1a6a0d97-3f93-45bf-9952-6c8fc726ba5c",
   "metadata": {},
   "source": [
    "<h1>12. wich road condition  had the most serious accident?</h1>"
   ]
  },
  {
   "cell_type": "code",
   "execution_count": 39,
   "id": "dcbe8c82-3c67-4279-a94f-51861b654511",
   "metadata": {},
   "outputs": [
    {
     "data": {
      "text/plain": [
       "Road_Surface_Conditions\n",
       "Dry                     61708\n",
       "Wet or damp             23785\n",
       "Frost or ice             2007\n",
       "Snow                      565\n",
       "Flood over 3cm. deep      152\n",
       "Name: count, dtype: int64"
      ]
     },
     "execution_count": 39,
     "metadata": {},
     "output_type": "execute_result"
    }
   ],
   "source": [
    "accident[accident['Accident_Severity']=='Serious']['Road_Surface_Conditions'].value_counts()"
   ]
  },
  {
   "cell_type": "markdown",
   "id": "af645ead-9962-41e2-b37e-0721fa21289c",
   "metadata": {},
   "source": [
    "<h2>insight: the result shows that the most serious accident are likely at wet conditions</h2>"
   ]
  },
  {
   "cell_type": "markdown",
   "id": "5959369d-c227-4400-b797-b77c8358608d",
   "metadata": {},
   "source": [
    "<h1>13. average casualties in rural areas?</h1>"
   ]
  },
  {
   "cell_type": "code",
   "execution_count": 40,
   "id": "7089404f-6d52-4fb2-9711-3684c12fed14",
   "metadata": {},
   "outputs": [
    {
     "data": {
      "text/plain": [
       "Urban_or_Rural_Area\n",
       "Rural          1.479204\n",
       "Unallocated    1.181818\n",
       "Urban          1.287807\n",
       "Name: Number_of_Casualties, dtype: float64"
      ]
     },
     "execution_count": 40,
     "metadata": {},
     "output_type": "execute_result"
    }
   ],
   "source": [
    "accident.groupby('Urban_or_Rural_Area')['Number_of_Casualties'].mean()"
   ]
  },
  {
   "cell_type": "markdown",
   "id": "52eb2887-a0f4-4489-8173-c8e5c7ad7716",
   "metadata": {},
   "source": [
    "<h2>insight: based on the result above, it indicates that average casualties in rural areas has the record of 1.479204. </h2>"
   ]
  },
  {
   "cell_type": "markdown",
   "id": "69d43e43-1b5c-43a9-b0a3-fde6715bf3ec",
   "metadata": {},
   "source": [
    "<h1>14. average casualties in urban areas?</h1>"
   ]
  },
  {
   "cell_type": "code",
   "execution_count": 41,
   "id": "dea17dea-f8ae-4be7-b2c6-68a2fb892455",
   "metadata": {},
   "outputs": [
    {
     "data": {
      "text/plain": [
       "Urban_or_Rural_Area\n",
       "Rural          1.479204\n",
       "Unallocated    1.181818\n",
       "Urban          1.287807\n",
       "Name: Number_of_Casualties, dtype: float64"
      ]
     },
     "execution_count": 41,
     "metadata": {},
     "output_type": "execute_result"
    }
   ],
   "source": [
    "accident.groupby('Urban_or_Rural_Area')['Number_of_Casualties'].mean()"
   ]
  },
  {
   "cell_type": "markdown",
   "id": "b4c6cdd0-f4ed-46d9-94fb-4abe602e5e34",
   "metadata": {},
   "source": [
    "<h2>insight: based on the result above, it indicates that average casualties in rural areas has the record of 1.287807</h2>"
   ]
  },
  {
   "cell_type": "markdown",
   "id": "b5cbd030-3e8b-4743-a254-874bd6c474af",
   "metadata": {},
   "source": [
    "<h1>15. district with the most accident during rain?</h1>"
   ]
  },
  {
   "cell_type": "code",
   "execution_count": 45,
   "id": "69802e6a-0aca-4963-ad21-e7175e84261b",
   "metadata": {},
   "outputs": [
    {
     "data": {
      "text/plain": [
       "District Area\n",
       "Birmingham                   1843\n",
       "Glasgow City                 1139\n",
       "Manchester                   1112\n",
       "Leeds                         967\n",
       "Sheffield                     876\n",
       "                             ... \n",
       "Chester-le-Street              24\n",
       "Teesdale                       21\n",
       "London Airport (Heathrow)      20\n",
       "Berwick-upon-Tweed             19\n",
       "Clackmannanshire               11\n",
       "Name: count, Length: 422, dtype: int64"
      ]
     },
     "execution_count": 45,
     "metadata": {},
     "output_type": "execute_result"
    }
   ],
   "source": [
    "accident[accident['Weather_Conditions'].str.contains('Rain', na=False)]['District Area'].value_counts()"
   ]
  },
  {
   "cell_type": "markdown",
   "id": "3030e188-45b0-4637-b1dd-4b457937852d",
   "metadata": {},
   "source": [
    "<h2>insight: it shows that the district with the most accident during rain is birmingham</h2>"
   ]
  },
  {
   "cell_type": "markdown",
   "id": "3e6eb895-b609-4430-8535-bfb8b3637483",
   "metadata": {},
   "source": [
    "<h1>16. average number of vehicles per accident in rainy condition?</h1>"
   ]
  },
  {
   "cell_type": "code",
   "execution_count": 47,
   "id": "e744e1c5-ee27-4ddf-8a3c-a84cb0a6bd64",
   "metadata": {},
   "outputs": [
    {
     "data": {
      "text/plain": [
       "Road_Surface_Conditions\n",
       "Dry                     1.841631\n",
       "Flood over 3cm. deep    1.610619\n",
       "Frost or ice            1.640006\n",
       "Snow                    1.746859\n",
       "Wet or damp             1.829161\n",
       "Name: Number_of_Vehicles, dtype: float64"
      ]
     },
     "execution_count": 47,
     "metadata": {},
     "output_type": "execute_result"
    }
   ],
   "source": [
    "accident.groupby('Road_Surface_Conditions')['Number_of_Vehicles'].mean()"
   ]
  },
  {
   "cell_type": "markdown",
   "id": "cf7b976c-93d2-4880-93b6-a747f2ad669d",
   "metadata": {},
   "source": [
    "<h2>insight: the average number of vehicles per accident in rainy condition is 1.829161</h2>"
   ]
  },
  {
   "cell_type": "markdown",
   "id": "5868ca92-effa-4a1a-adfd-d6c2d028f165",
   "metadata": {},
   "source": [
    "<h1>17. average number of vehicles per accident in dry condition?</h1>"
   ]
  },
  {
   "cell_type": "code",
   "execution_count": 48,
   "id": "921b4959-7795-452d-a771-542005c9f780",
   "metadata": {},
   "outputs": [
    {
     "data": {
      "text/plain": [
       "Road_Surface_Conditions\n",
       "Dry                     1.841631\n",
       "Flood over 3cm. deep    1.610619\n",
       "Frost or ice            1.640006\n",
       "Snow                    1.746859\n",
       "Wet or damp             1.829161\n",
       "Name: Number_of_Vehicles, dtype: float64"
      ]
     },
     "execution_count": 48,
     "metadata": {},
     "output_type": "execute_result"
    }
   ],
   "source": [
    "accident.groupby('Road_Surface_Conditions')['Number_of_Vehicles'].mean()"
   ]
  },
  {
   "cell_type": "markdown",
   "id": "96c842cc-409c-4a00-9503-4d20464bd4ca",
   "metadata": {},
   "source": [
    "<h2>insight: it shows that the average condition per accident in dry condition is 1.841631</h2>"
   ]
  },
  {
   "cell_type": "markdown",
   "id": "6f601259-0f6b-4fd0-a4ed-97231eeae272",
   "metadata": {},
   "source": [
    "<h1>18. top 3 vehicle types in urban accident?</h1>"
   ]
  },
  {
   "cell_type": "code",
   "execution_count": 49,
   "id": "4f4216db-3a04-49fb-8d31-3564b6edd446",
   "metadata": {},
   "outputs": [
    {
     "data": {
      "text/plain": [
       "Vehicle_Type\n",
       "Car                                      316062\n",
       "Van / Goods 3.5 tonnes mgw or under       22003\n",
       "Bus or coach (17 or more pass seats)      16851\n",
       "Motorcycle over 500cc                     16700\n",
       "Goods 7.5 tonnes mgw and over             11151\n",
       "Motorcycle 125cc and under                10246\n",
       "Taxi/Private hire car                      8617\n",
       "Motorcycle over 125cc and up to 500cc      4982\n",
       "Motorcycle 50cc and under                  4893\n",
       "Goods over 3.5t. and under 7.5t            3864\n",
       "Other vehicle                              3643\n",
       "Agricultural vehicle                       1272\n",
       "Minibus (8 - 16 passenger seats)           1258\n",
       "Pedal cycle                                 127\n",
       "Data missing or out of range                  6\n",
       "Ridden horse                                  3\n",
       "Name: count, dtype: int64"
      ]
     },
     "execution_count": 49,
     "metadata": {},
     "output_type": "execute_result"
    }
   ],
   "source": [
    "accident[accident['Urban_or_Rural_Area']=='Urban']['Vehicle_Type'].value_counts()"
   ]
  },
  {
   "cell_type": "markdown",
   "id": "66e80c9a-ac82-4908-b3b2-d045a08bd4c3",
   "metadata": {},
   "source": [
    "<h2>insight: based on the result above, it shows that the top 3 vehicles are car,van,and bus</h2>"
   ]
  },
  {
   "cell_type": "markdown",
   "id": "41e3b624-3ce7-41dc-a140-10c6500df590",
   "metadata": {},
   "source": [
    "<h1>19. least vehicle type in rural accident?</h1>"
   ]
  },
  {
   "cell_type": "code",
   "execution_count": 50,
   "id": "3be8df84-2cd4-46e0-a1ec-e9fab23c06c3",
   "metadata": {},
   "outputs": [
    {
     "data": {
      "text/plain": [
       "Vehicle_Type\n",
       "Car                                      181922\n",
       "Van / Goods 3.5 tonnes mgw or under       12156\n",
       "Bus or coach (17 or more pass seats)       9025\n",
       "Motorcycle over 500cc                      8957\n",
       "Goods 7.5 tonnes mgw and over              6156\n",
       "Motorcycle 125cc and under                 5023\n",
       "Taxi/Private hire car                      4677\n",
       "Motorcycle 50cc and under                  2710\n",
       "Motorcycle over 125cc and up to 500cc      2674\n",
       "Goods over 3.5t. and under 7.5t            2232\n",
       "Other vehicle                              1994\n",
       "Minibus (8 - 16 passenger seats)            718\n",
       "Agricultural vehicle                        675\n",
       "Pedal cycle                                  70\n",
       "Ridden horse                                  1\n",
       "Name: count, dtype: int64"
      ]
     },
     "execution_count": 50,
     "metadata": {},
     "output_type": "execute_result"
    }
   ],
   "source": [
    "accident[accident['Urban_or_Rural_Area']=='Rural']['Vehicle_Type'].value_counts()"
   ]
  },
  {
   "cell_type": "markdown",
   "id": "206e5e2b-555d-4eee-a5d2-b4e91eba4bc9",
   "metadata": {},
   "source": [
    "<h2>insight: it shows that the least vehicle that involve in an accident is ridden horse</h2>"
   ]
  },
  {
   "cell_type": "markdown",
   "id": "21f8c769-b9a6-429c-804a-cedb9e0215cd",
   "metadata": {},
   "source": [
    "<h1>20. median vehicle involve in accidents?</h1>"
   ]
  },
  {
   "cell_type": "code",
   "execution_count": 51,
   "id": "be174fed-0fff-41d4-8c1c-53bfc1e851be",
   "metadata": {},
   "outputs": [
    {
     "data": {
      "text/plain": [
       "1.357040257068864"
      ]
     },
     "execution_count": 51,
     "metadata": {},
     "output_type": "execute_result"
    }
   ],
   "source": [
    "accident['Number_of_Casualties'].mean()"
   ]
  },
  {
   "cell_type": "markdown",
   "id": "6b68ae1d-2c25-491d-805b-e68782714a98",
   "metadata": {},
   "source": [
    "<h2>insight: it says that the median vehicle involve in accident is 1.357040257068864</h2>"
   ]
  },
  {
   "cell_type": "markdown",
   "id": "f41baa01-2795-46c8-afa3-54d7572fa7f0",
   "metadata": {},
   "source": [
    "<h1>21. how many accidents accurred each year?</h1>"
   ]
  },
  {
   "cell_type": "code",
   "execution_count": 52,
   "id": "00b808d1-61b4-4ac9-9eb6-b06ba1a1ffa0",
   "metadata": {},
   "outputs": [
    {
     "data": {
      "text/plain": [
       "Accident Date\n",
       "2019    182115\n",
       "2020    170591\n",
       "2021    163554\n",
       "2022    144419\n",
       "Name: count, dtype: int64"
      ]
     },
     "execution_count": 52,
     "metadata": {},
     "output_type": "execute_result"
    }
   ],
   "source": [
    "pd.to_datetime(accident['Accident Date'], dayfirst=True).dt.year.value_counts()"
   ]
  },
  {
   "cell_type": "markdown",
   "id": "0fe99245-0e32-46c7-b885-0d7518fcc860",
   "metadata": {},
   "source": [
    "<h2>insight: it shows that the number of accident occurred each year decreases over time</h2>"
   ]
  },
  {
   "cell_type": "markdown",
   "id": "ddd668cb-0d97-4b3d-8814-87f4705b0bd4",
   "metadata": {},
   "source": [
    "<h1>22. top district with the highest number of accidents? </h1>"
   ]
  },
  {
   "cell_type": "code",
   "execution_count": 53,
   "id": "d5c91cfb-450c-4633-a6b7-0c889449c05c",
   "metadata": {},
   "outputs": [
    {
     "data": {
      "text/plain": [
       "District Area\n",
       "Aberdeen City    1508\n",
       "Aberdeenshire    2529\n",
       "Adur              817\n",
       "Allerdale        1663\n",
       "Alnwick           351\n",
       "                 ... \n",
       "Wychavon         1943\n",
       "Wycombe          2442\n",
       "Wyre             1706\n",
       "Wyre Forest      1340\n",
       "York             2453\n",
       "Name: Number_of_Casualties, Length: 422, dtype: int64"
      ]
     },
     "execution_count": 53,
     "metadata": {},
     "output_type": "execute_result"
    }
   ],
   "source": [
    "accident.groupby('District Area')['Number_of_Casualties'].sum()"
   ]
  },
  {
   "cell_type": "markdown",
   "id": "5cf535fe-e091-44af-9adc-9156052ae177",
   "metadata": {},
   "source": [
    "<h2>insight: it shows that the top district with the highest number of casualties is Aberdeenshire</h2>"
   ]
  },
  {
   "cell_type": "markdown",
   "id": "1e12a1f4-02cf-459c-98e2-bff63ede7756",
   "metadata": {},
   "source": [
    "<h1>23. most common light condition during accident?</h1>"
   ]
  },
  {
   "cell_type": "code",
   "execution_count": 58,
   "id": "352ad30e-68c0-4df9-875b-5b3ab02b05e8",
   "metadata": {},
   "outputs": [
    {
     "data": {
      "text/plain": [
       "Light_Conditions\n",
       "Daylight                       484880\n",
       "Darkness - lights lit          129335\n",
       "Darkness - no lighting          37437\n",
       "Darkness - lighting unknown      6484\n",
       "Darkness - lights unlit          2543\n",
       "Name: count, dtype: int64"
      ]
     },
     "execution_count": 58,
     "metadata": {},
     "output_type": "execute_result"
    }
   ],
   "source": [
    "accident['Light_Conditions'].value_counts()"
   ]
  },
  {
   "cell_type": "markdown",
   "id": "51649809-73ec-4a40-9716-f88b34900a6c",
   "metadata": {},
   "source": [
    "<h2>insight: based on the result above, the most common light condition during accident is daylight</h2>"
   ]
  },
  {
   "cell_type": "markdown",
   "id": "079c88a1-9b80-4cbb-8e63-3caad1794ad9",
   "metadata": {},
   "source": [
    "<h1>24. average casualties by weather condition?</h1>"
   ]
  },
  {
   "cell_type": "code",
   "execution_count": 63,
   "id": "37d05ad7-e078-4dbc-a5d5-be05a0a2d6d6",
   "metadata": {},
   "outputs": [
    {
     "data": {
      "text/plain": [
       "Weather_Conditions\n",
       "Fine + high winds        1.386018\n",
       "Fine no high winds       1.347397\n",
       "Fog or mist              1.452948\n",
       "Other                    1.354869\n",
       "Raining + high winds     1.416641\n",
       "Raining no high winds    1.408214\n",
       "Snowing + high winds     1.418079\n",
       "Snowing no high winds    1.341776\n",
       "Name: Number_of_Casualties, dtype: float64"
      ]
     },
     "execution_count": 63,
     "metadata": {},
     "output_type": "execute_result"
    }
   ],
   "source": [
    "accident.groupby('Weather_Conditions')['Number_of_Casualties'].mean()"
   ]
  },
  {
   "cell_type": "markdown",
   "id": "e041de88-4072-4ebd-907d-48676a2d329b",
   "metadata": {},
   "source": [
    "<h2>insight: the average casualties by weather condition that is shows above is 1.386018</h2>"
   ]
  },
  {
   "cell_type": "markdown",
   "id": "632c2caf-c651-42fc-91ce-7cb78c37b941",
   "metadata": {},
   "source": [
    "<h1>25. which light condition saw the most serious accident?</h1>"
   ]
  },
  {
   "cell_type": "code",
   "execution_count": 65,
   "id": "4fb39746-6051-451f-b3e5-f42b00dabaca",
   "metadata": {},
   "outputs": [
    {
     "data": {
      "text/plain": [
       "Light_Conditions\n",
       "Daylight                       60759\n",
       "Darkness - lights lit          19130\n",
       "Darkness - no lighting          7174\n",
       "Darkness - lighting unknown      794\n",
       "Darkness - lights unlit          360\n",
       "Name: count, dtype: int64"
      ]
     },
     "execution_count": 65,
     "metadata": {},
     "output_type": "execute_result"
    }
   ],
   "source": [
    "accident[accident['Accident_Severity']=='Serious']['Light_Conditions'].value_counts()"
   ]
  },
  {
   "cell_type": "markdown",
   "id": "20f3ea66-264f-4dd4-ba26-3c16a7c46890",
   "metadata": {},
   "source": [
    "<h2>insight: the ligh condition with the most serious accident is daylight</h2>"
   ]
  },
  {
   "cell_type": "code",
   "execution_count": null,
   "id": "49990f77-656f-45df-a731-95862bc87b4f",
   "metadata": {},
   "outputs": [],
   "source": []
  }
 ],
 "metadata": {
  "kernelspec": {
   "display_name": "Python 3 (ipykernel)",
   "language": "python",
   "name": "python3"
  },
  "language_info": {
   "codemirror_mode": {
    "name": "ipython",
    "version": 3
   },
   "file_extension": ".py",
   "mimetype": "text/x-python",
   "name": "python",
   "nbconvert_exporter": "python",
   "pygments_lexer": "ipython3",
   "version": "3.11.3"
  }
 },
 "nbformat": 4,
 "nbformat_minor": 5
}
